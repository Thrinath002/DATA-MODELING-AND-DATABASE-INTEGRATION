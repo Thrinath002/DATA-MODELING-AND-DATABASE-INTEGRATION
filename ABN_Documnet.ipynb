{
  "nbformat": 4,
  "nbformat_minor": 0,
  "metadata": {
    "colab": {
      "provenance": []
    },
    "kernelspec": {
      "name": "python3",
      "display_name": "Python 3"
    },
    "language_info": {
      "name": "python"
    }
  },
  "cells": [
    {
      "cell_type": "markdown",
      "source": [
        "# Project Title: Data Cleaning, Integration, and Database Management\n"
      ],
      "metadata": {
        "id": "m4Ov2SI57_hb"
      }
    },
    {
      "cell_type": "markdown",
      "source": [
        "# Problem Statement\n",
        "\"\"\"\n",
        "We are tasked with cleaning, merging, and normalizing multiple datasets obtained from various sources.\n",
        "The goal is to create a relational database to store the integrated data and enable efficient querying\n",
        "and analysis.\n",
        "\"\"\""
      ],
      "metadata": {
        "id": "tJSo8MEJ80dY"
      }
    },
    {
      "cell_type": "markdown",
      "source": [
        "# Data Description\n",
        "\"\"\"\n",
        "The datasets consist of information about Australian Business Numbers (ABN), Fair Jobs Code Pre-Assessment\n",
        "Certificates, Motor Dealer Organisation License Lists, Australian Financial Services Licensees, and School\n",
        "details. Each dataset contains different attributes such as ABN numbers, certificate numbers, license\n",
        "numbers, etc.\n",
        "\"\"\""
      ],
      "metadata": {
        "id": "oL8v90Fa8-z1"
      }
    },
    {
      "cell_type": "markdown",
      "source": [
        "##Key Actions Taken:\n",
        " - Conducted exploratory data analysis (EDA) to understand data distributions and identify anomalies.\n",
        " - Cleaned datasets by addressing missing values, duplicates, and inconsistencies.\n",
        " - Merged datasets using common keys like ABN and license numbers to create a unified dataset, then normalized it to enhance data integrity and reduce redundancy.\n"
      ],
      "metadata": {
        "id": "I1crSqi3_Ice"
      }
    },
    {
      "cell_type": "markdown",
      "source": [
        "## Cleaning Process for df_step1 (ABN Data)\n"
      ],
      "metadata": {
        "id": "F9N0SvSCG0HK"
      }
    },
    {
      "cell_type": "code",
      "execution_count": 3,
      "metadata": {
        "id": "95D8Fnhf7Zug"
      },
      "outputs": [],
      "source": [
        "import re\n",
        "import sys\n",
        "import os\n",
        "from os import listdir\n",
        "from os.path import isfile, join\n",
        "\n",
        "# Define the folder path where the XML files are uploaded in Google Colab\n",
        "folder = \"/content/drive/My Drive/DB_Engineer/\"  # Update as per your folder structure\n",
        "\n",
        "# limits for the number of files and records to process.\n",
        "filecount = 999\n",
        "recordcount = 99999999"
      ]
    },
    {
      "cell_type": "markdown",
      "source": [
        "<font color=\"blue\"># Function readData() reads XML files from the specified folder, extracts data using the extractLine() function, and writes the extracted data to CSV files. It iterates through each file, extracts information line by line, and writes it to an output CSV file. The function also prints progress messages indicating the processing status of each file.</font>\n"
      ],
      "metadata": {
        "id": "fwMoI3eML-Vr"
      }
    },
    {
      "cell_type": "code",
      "source": [
        "\n",
        "def extractLine(line):\n",
        "\n",
        "    recordLastUpdated = \"\"\n",
        "    recordReplaced = \"\"\n",
        "    abnStatus = \"\"\n",
        "    abnStatusDate = \"\"\n",
        "    abnNumber = \"\"\n",
        "    entityTypeIND = \"\"\n",
        "    entityTypeText = \"\"\n",
        "    nameType = \"\"\n",
        "    nameText = \"\"\n",
        "    state = \"\"\n",
        "    postcode = \"\"\n",
        "    asicType = \"\"\n",
        "    asicNumber = \"\"\n",
        "    gstStatus = \"\"\n",
        "    gstStatusDate = \"\"\n",
        "    dgrStatusDate = \"\"\n",
        "    dgrNameType = \"\"\n",
        "    dgrNameText = \"\"\n",
        "    oeEntry = \"\"\n",
        "\n",
        "    # Regular expressions to extract data from each line of the XML file\n",
        "    p = re.compile('<ABR recordLastUpdatedDate=\"(\\d{8})\" replaced=\"(\\w)\">')\n",
        "    m = p.search(line)\n",
        "    if (m == None): return\n",
        "    recordLastUpdated = m.groups()[0]\n",
        "    recordReplaced = m.groups()[1]\n",
        "\n",
        "    # Extract ABN related information\n",
        "    p = re.compile('<ABN status=\"(\\w{3})\" ABNStatusFromDate=\"(\\d{8})\">(\\d{0,20})')\n",
        "    m = p.search(line)\n",
        "    abnStatus = m.groups()[0]\n",
        "    abnStatusDate = m.groups()[1]\n",
        "    abnNumber = m.groups()[2]\n",
        "\n",
        "    # Extract entity type information\n",
        "    p = re.compile('<EntityTypeInd>(\\w{0,4})')\n",
        "    m = p.search(line)\n",
        "    entityTypeIND = m.groups()[0]\n",
        "\n",
        "    # Extract entity type text information\n",
        "    p = re.compile('<EntityTypeText>((\\w|\\s){0,100})')\n",
        "    m = p.search(line)\n",
        "    entityTypeText = m.groups()[0]\n",
        "\n",
        "    # Extract name type and text information\n",
        "    p = re.compile('<MainEntity>(.*?)</MainEntity>')\n",
        "    m = p.search(line)\n",
        "    if (m != None):\n",
        "        mainEntity = m.groups()[0]\n",
        "        entity = mainEntity\n",
        "        p = re.compile('<NonIndividualName type=\"(\\w{0,3})')\n",
        "        m = p.search(mainEntity)\n",
        "        nameType = m.groups()[0]\n",
        "        p = re.compile('<NonIndividualNameText>(.{0,})</NonIndividualNameText>')\n",
        "        m = p.search(mainEntity)\n",
        "        nameText = m.groups()[0]\n",
        "    else:\n",
        "        p = re.compile('<LegalEntity>(.*?)</LegalEntity>')\n",
        "        m = p.search(line)\n",
        "        legalEntity = m.groups()[0]\n",
        "        entity = legalEntity\n",
        "        p = re.compile('<IndividualName type=\"(\\w{0,99})')\n",
        "        m = p.search(legalEntity)\n",
        "        nameType = m.groups()[0]\n",
        "        p = re.compile('<NameTitle>([\\w|\\s]{0,50})')\n",
        "        m = p.search(legalEntity)\n",
        "        nameTitle = \"\"\n",
        "        if (m != None): nameTitle = m.groups()[0]\n",
        "        p = re.compile('<GivenName>([\\w|\\s]{0,100})')\n",
        "        m = p.search(legalEntity)\n",
        "        givenNames = \"\"\n",
        "        if (m != None): givenNames = \" \".join(m.groups())\n",
        "        p = re.compile('<FamilyName>([\\w|\\s]{0,50})')\n",
        "        m = p.search(legalEntity)\n",
        "        familyNames = \"\"\n",
        "        if (m != None): familyNames = \" \".join(m.groups())\n",
        "        nameText = \"\"\n",
        "        if (nameTitle): nameText = nameText + nameTitle\n",
        "        if (givenNames): nameText = nameText + \" \" + givenNames\n",
        "        if (familyNames): nameText = nameText + \" \" + familyNames\n",
        "\n",
        "    # Extract state and postcode information\n",
        "    p = re.compile('<State>(\\w{0,3})')\n",
        "    m = p.search(entity)\n",
        "    state = m.groups()[0]\n",
        "    p = re.compile('<Postcode>(\\d{0,50})')\n",
        "    m = p.search(entity)\n",
        "    postcode = m.groups()[0]\n",
        "\n",
        "    # Extract ASIC number information\n",
        "    p = re.compile('<ASICNumber ASICNumberType=\"(\\w{0,99})\">(\\d{9})')\n",
        "    m = p.search(line)\n",
        "    if (m != None):\n",
        "        asicType = m.groups()[0]\n",
        "        asicNumber = m.groups()[1]\n",
        "\n",
        "    # Extract GST related information\n",
        "    p = re.compile('<GST status=\"(\\w{0,99})\" GSTStatusFromDate=\"(\\d{8})\"')\n",
        "    m = p.search(line)\n",
        "    gstStatus = m.groups()[0]\n",
        "    gstStatusDate = m.groups()[1]\n",
        "\n",
        "    # Extract DGR related information\n",
        "    p = re.compile('<DGR DGRStatusFromDate=\"(\\d{8})?\">(.*?)</DGR>')\n",
        "    m = p.search(line)\n",
        "    if (m != None):\n",
        "        dgrStatusDate = m.groups()[0]\n",
        "        dgr = m.groups()[1]\n",
        "        if (dgr != None):\n",
        "            p = re.compile('<NonIndividualName type=\"(\\w{0,3})')\n",
        "            m = p.search(dgr)\n",
        "            dgrNameType = m.groups()[0]\n",
        "\n",
        "            p = re.compile('<NonIndividualNameText>(.{0,})</NonIndividualNameText>')\n",
        "            m = p.search(dgr)\n",
        "            dgrNameText = m.groups()[0]\n",
        "\n",
        "    # Extract Other Entity related information\n",
        "    p = re.compile('<OtherEntity>.*?</OtherEntity>')\n",
        "    m = p.findall(line)\n",
        "    oeEntry = \"\"\n",
        "    if m:\n",
        "        otherEntities = m\n",
        "        for oEntity in otherEntities:\n",
        "            p = re.compile('<NonIndividualName type=\"(\\w{0,3})')\n",
        "            m = p.search(oEntity)\n",
        "            oeNameType = m.groups()[0]\n",
        "            p = re.compile('<NonIndividualNameText>(.{0,})</NonIndividualNameText>')\n",
        "            m = p.search(oEntity)\n",
        "            oeNameText = m.groups()[0]\n",
        "            oeEntry = oeEntry + str(otherEntities.index(oEntity)+1) + \". \" + oeNameType + \"-\" + oeNameText + \" \"\n",
        "\n",
        "    # Prepare CSV line with extracted information\n",
        "    nameText = '\"' + nameText.replace('\"','\"\"').strip() + '\"'\n",
        "    entityTypeText = '\"' + entityTypeText.replace('\"','\"\"').strip() + '\"'\n",
        "    dgrNameText = '\"' + dgrNameText.replace('\"','\"\"').strip() + '\"'\n",
        "    oeEntry = '\"' + oeEntry.replace('\"','\"\"').strip() + '\"'\n",
        "    fields = [recordLastUpdated, recordReplaced,\n",
        "                    abnStatus, abnStatusDate, abnNumber,\n",
        "                    entityTypeIND, entityTypeText,\n",
        "                    nameType, nameText, state, postcode,\n",
        "                    asicType, asicNumber,\n",
        "                    gstStatus, gstStatusDate,\n",
        "                    dgrNameType, dgrNameText, dgrStatusDate,\n",
        "                    oeEntry]\n",
        "    csvLine = ','.join(fields)\n",
        "    return csvLine\n"
      ],
      "metadata": {
        "id": "3hsJor5GIgVu"
      },
      "execution_count": 4,
      "outputs": []
    },
    {
      "cell_type": "code",
      "source": [
        "from google.colab import drive\n",
        "drive.mount('/content/drive')"
      ],
      "metadata": {
        "id": "Rj_DZXEdQQE4"
      },
      "execution_count": null,
      "outputs": []
    },
    {
      "cell_type": "code",
      "source": [],
      "metadata": {
        "id": "bXiI-mp2J7Ew"
      },
      "execution_count": null,
      "outputs": []
    },
    {
      "cell_type": "markdown",
      "source": [
        "<font color=\"blue\">Function readData() reads XML files from the specified folder, extracts data using the extractLine() function, and writes the extracted data to CSV files. It iterates through each file, extracts information line by line, and writes it to an output CSV file. The function also prints progress messages indicating the processing status of each file.</font>\n"
      ],
      "metadata": {
        "id": "PDVcI_6tMQJ7"
      }
    },
    {
      "cell_type": "code",
      "source": [
        "def readData():\n",
        "    dataFiles = sorted([f for f in listdir(folder) if isfile(join(folder, f))])\n",
        "    fcount = 0\n",
        "    print('\\nProcessing files in folder \"' + folder + '\"\\n')\n",
        "    for dataFile in dataFiles:\n",
        "        if (fcount == filecount): break\n",
        "        outFile = open(dataFile + '-output.csv', 'w')\n",
        "        outFile.write('recordLastUpdated,recordReplaced,abnStatus,abnStatusDate,abnNumber,entityTypeIND,entityTypeText,nameType,nameText,state,postcode,asicType,asicNumber,gstStatus,gstStatusDate,dgrNameType,dgrNameText,dgrStatusDate,otherEntities\\n')\n",
        "\n",
        "        lcount = 0\n",
        "        rcount = 0\n",
        "        with open(join(folder, dataFile)) as fileobject:\n",
        "            print(\"File \" + str(fcount+1) + \". \" + dataFile + '')\n",
        "            totalRecords = \"\"\n",
        "            for line in fileobject:\n",
        "                if (rcount == recordcount): break\n",
        "                if (lcount == 0):\n",
        "                    p = re.compile('<RecordCount>(.*?)</RecordCount>')\n",
        "                    m = p.search(line)\n",
        "                    totalRecords = m.groups()[0]\n",
        "                if (recordcount == 99999999 or recordCount >= totalRecords):\n",
        "                    targetRecords = totalRecords\n",
        "                else: targetRecords = str(recordcount)\n",
        "\n",
        "                csvLine = extractLine(line)\n",
        "                if (csvLine):\n",
        "                    msg = \" Entry  \" + str(rcount+1) + \" of \" + targetRecords\n",
        "                    sys.stdout.write(('\\b' * len(msg)) + msg)\n",
        "                    outFile.write(csvLine + '\\n')\n",
        "                    rcount = rcount + 1\n",
        "                lcount = lcount + 1\n",
        "                print('   --> ' + dataFile + '-output.csv')\n",
        "                sys.stdout.write(\"\\033[F\")\n",
        "            print(\"\\r\\n\")\n",
        "        fcount = fcount + 1\n",
        "        outFile.close()\n",
        "\n",
        "# Execute the script\n",
        "readData()\n"
      ],
      "metadata": {
        "id": "NvMcOjMRNd58"
      },
      "execution_count": null,
      "outputs": []
    },
    {
      "cell_type": "code",
      "source": [
        "# Import necessary libraries\n",
        "from google.colab import drive\n",
        "import os\n",
        "import pandas as pd\n",
        "\n",
        "# Mount Google Drive\n",
        "\n",
        "# Path to the folder containing CSV files in Google Drive\n",
        "folder_path = '/content/drive/My Drive/DB_ENGINEER/DB_step1_op'\n",
        "\n",
        "# Get a list of all CSV files in the folder\n",
        "csv_files = [file for file in os.listdir(folder_path) if file.endswith('.csv')]\n",
        "\n",
        "# Read each CSV file and concatenate them into a single DataFrame\n",
        "dfs = []\n",
        "for file in csv_files:\n",
        "    file_path = os.path.join(folder_path, file)\n",
        "    df = pd.read_csv(file_path)\n",
        "    dfs.append(df)\n",
        "\n",
        "# Concatenate all DataFrames into one\n",
        "combined_df = pd.concat(dfs, ignore_index=True)\n",
        "\n",
        "# Path to save the combined CSV file\n",
        "combined_csv_path = '/content/drive/My Drive/DB_ENGINEER/New_step_op.csv'\n",
        "\n",
        "# Write the combined DataFrame to a new CSV file\n",
        "combined_df.to_csv(combined_csv_path, index=False)\n",
        "\n",
        "# Print confirmation message\n",
        "print(\"CSV files have been merged and saved as\", combined_csv_path)\n"
      ],
      "metadata": {
        "id": "Gx06-hmgNjy_"
      },
      "execution_count": null,
      "outputs": []
    },
    {
      "cell_type": "code",
      "source": [
        "import pandas as pd\n",
        "df_step1=pd.read_csv(\"/content/drive/My Drive/DB_ENGINEER/New_step_op.csv\")"
      ],
      "metadata": {
        "id": "kMRoEY6GROpy"
      },
      "execution_count": 2,
      "outputs": []
    },
    {
      "cell_type": "code",
      "source": [
        "df_step1"
      ],
      "metadata": {
        "id": "vmuXZAz9SUMq"
      },
      "execution_count": null,
      "outputs": []
    },
    {
      "cell_type": "code",
      "source": [],
      "metadata": {
        "id": "eIndpBJgSoSN"
      },
      "execution_count": null,
      "outputs": []
    },
    {
      "cell_type": "markdown",
      "source": [
        "## Cleaning process for step2(Fair Jobs Code Pre-Assessment Certificates)"
      ],
      "metadata": {
        "id": "JUif9qOTTZmA"
      }
    },
    {
      "cell_type": "code",
      "source": [
        "df_step2=pd.read_csv(\"/content/drive/My Drive/DB_ENGINEER/FJCPublicRegister_Certificate_FullExport_05-04-24.csv\")"
      ],
      "metadata": {
        "id": "blxM7j46TovQ"
      },
      "execution_count": 4,
      "outputs": []
    },
    {
      "cell_type": "code",
      "source": [
        "inner_join_df = pd.merge(df_step1, df_step2, left_on='abnNumber', right_on=' ABN', how='inner')\n"
      ],
      "metadata": {
        "id": "HEs_AKCFT2VU"
      },
      "execution_count": 5,
      "outputs": []
    },
    {
      "cell_type": "code",
      "source": [
        "print(inner_join_df)\n"
      ],
      "metadata": {
        "id": "7ycubTjUT3Oh"
      },
      "execution_count": null,
      "outputs": []
    },
    {
      "cell_type": "code",
      "source": [
        "null_values = df_step2.isnull().sum()\n",
        "print(null_values)\n"
      ],
      "metadata": {
        "colab": {
          "base_uri": "https://localhost:8080/",
          "height": 0
        },
        "id": "XrSLjWXPT7-Y",
        "outputId": "c0e993a4-4bd0-461e-e852-1fa1d71f99c4"
      },
      "execution_count": 7,
      "outputs": [
        {
          "output_type": "stream",
          "name": "stdout",
          "text": [
            "CertificateNumber      0\n",
            "EntityName             0\n",
            " TradeName           391\n",
            " ABN                   0\n",
            " Status                0\n",
            " IssueDate             0\n",
            " ExpiryDate            0\n",
            "dtype: int64\n"
          ]
        }
      ]
    },
    {
      "cell_type": "code",
      "source": [
        "df_step2[' ABN'].nunique()"
      ],
      "metadata": {
        "colab": {
          "base_uri": "https://localhost:8080/",
          "height": 0
        },
        "id": "EfTaY08aT-RD",
        "outputId": "69698b2b-d012-4eca-fcee-e71d75f11f45"
      },
      "execution_count": 8,
      "outputs": [
        {
          "output_type": "execute_result",
          "data": {
            "text/plain": [
              "4083"
            ]
          },
          "metadata": {},
          "execution_count": 8
        }
      ]
    },
    {
      "cell_type": "code",
      "source": [
        "abn_duplicates = df_step2[df_step2[' ABN'].duplicated()]\n",
        "abn_duplicates.head()"
      ],
      "metadata": {
        "id": "04QRsodTUEsh"
      },
      "execution_count": null,
      "outputs": []
    },
    {
      "cell_type": "code",
      "source": [
        "# Filter rows where the value in the 'ABN' column is equal to '57618871266'\n",
        "filtered_rows = df_step2[df_step2[' ABN'] == 18068707308]\n",
        "filtered_rows.head()\n"
      ],
      "metadata": {
        "colab": {
          "base_uri": "https://localhost:8080/",
          "height": 112
        },
        "id": "r7AG0ilKUFyY",
        "outputId": "48ab7477-975d-4fd4-dd13-7de258273408"
      },
      "execution_count": 10,
      "outputs": [
        {
          "output_type": "execute_result",
          "data": {
            "text/plain": [
              "     CertificateNumber    EntityName     TradeName          ABN  Status  \\\n",
              "1083   FJC-230110-1099  HATZ PTY LTD  Hatz Pty Ltd  18068707308  Issued   \n",
              "1085   FJC-230110-1101  HATZ PTY LTD  Hatz Pty Ltd  18068707308  Issued   \n",
              "\n",
              "       IssueDate  ExpiryDate  \n",
              "1083  10/01/2023  09/01/2025  \n",
              "1085  10/01/2023  09/01/2025  "
            ],
            "text/html": [
              "\n",
              "  <div id=\"df-cea6bedc-dc2b-43a2-9e56-a941b77eff4c\" class=\"colab-df-container\">\n",
              "    <div>\n",
              "<style scoped>\n",
              "    .dataframe tbody tr th:only-of-type {\n",
              "        vertical-align: middle;\n",
              "    }\n",
              "\n",
              "    .dataframe tbody tr th {\n",
              "        vertical-align: top;\n",
              "    }\n",
              "\n",
              "    .dataframe thead th {\n",
              "        text-align: right;\n",
              "    }\n",
              "</style>\n",
              "<table border=\"1\" class=\"dataframe\">\n",
              "  <thead>\n",
              "    <tr style=\"text-align: right;\">\n",
              "      <th></th>\n",
              "      <th>CertificateNumber</th>\n",
              "      <th>EntityName</th>\n",
              "      <th>TradeName</th>\n",
              "      <th>ABN</th>\n",
              "      <th>Status</th>\n",
              "      <th>IssueDate</th>\n",
              "      <th>ExpiryDate</th>\n",
              "    </tr>\n",
              "  </thead>\n",
              "  <tbody>\n",
              "    <tr>\n",
              "      <th>1083</th>\n",
              "      <td>FJC-230110-1099</td>\n",
              "      <td>HATZ PTY LTD</td>\n",
              "      <td>Hatz Pty Ltd</td>\n",
              "      <td>18068707308</td>\n",
              "      <td>Issued</td>\n",
              "      <td>10/01/2023</td>\n",
              "      <td>09/01/2025</td>\n",
              "    </tr>\n",
              "    <tr>\n",
              "      <th>1085</th>\n",
              "      <td>FJC-230110-1101</td>\n",
              "      <td>HATZ PTY LTD</td>\n",
              "      <td>Hatz Pty Ltd</td>\n",
              "      <td>18068707308</td>\n",
              "      <td>Issued</td>\n",
              "      <td>10/01/2023</td>\n",
              "      <td>09/01/2025</td>\n",
              "    </tr>\n",
              "  </tbody>\n",
              "</table>\n",
              "</div>\n",
              "    <div class=\"colab-df-buttons\">\n",
              "\n",
              "  <div class=\"colab-df-container\">\n",
              "    <button class=\"colab-df-convert\" onclick=\"convertToInteractive('df-cea6bedc-dc2b-43a2-9e56-a941b77eff4c')\"\n",
              "            title=\"Convert this dataframe to an interactive table.\"\n",
              "            style=\"display:none;\">\n",
              "\n",
              "  <svg xmlns=\"http://www.w3.org/2000/svg\" height=\"24px\" viewBox=\"0 -960 960 960\">\n",
              "    <path d=\"M120-120v-720h720v720H120Zm60-500h600v-160H180v160Zm220 220h160v-160H400v160Zm0 220h160v-160H400v160ZM180-400h160v-160H180v160Zm440 0h160v-160H620v160ZM180-180h160v-160H180v160Zm440 0h160v-160H620v160Z\"/>\n",
              "  </svg>\n",
              "    </button>\n",
              "\n",
              "  <style>\n",
              "    .colab-df-container {\n",
              "      display:flex;\n",
              "      gap: 12px;\n",
              "    }\n",
              "\n",
              "    .colab-df-convert {\n",
              "      background-color: #E8F0FE;\n",
              "      border: none;\n",
              "      border-radius: 50%;\n",
              "      cursor: pointer;\n",
              "      display: none;\n",
              "      fill: #1967D2;\n",
              "      height: 32px;\n",
              "      padding: 0 0 0 0;\n",
              "      width: 32px;\n",
              "    }\n",
              "\n",
              "    .colab-df-convert:hover {\n",
              "      background-color: #E2EBFA;\n",
              "      box-shadow: 0px 1px 2px rgba(60, 64, 67, 0.3), 0px 1px 3px 1px rgba(60, 64, 67, 0.15);\n",
              "      fill: #174EA6;\n",
              "    }\n",
              "\n",
              "    .colab-df-buttons div {\n",
              "      margin-bottom: 4px;\n",
              "    }\n",
              "\n",
              "    [theme=dark] .colab-df-convert {\n",
              "      background-color: #3B4455;\n",
              "      fill: #D2E3FC;\n",
              "    }\n",
              "\n",
              "    [theme=dark] .colab-df-convert:hover {\n",
              "      background-color: #434B5C;\n",
              "      box-shadow: 0px 1px 3px 1px rgba(0, 0, 0, 0.15);\n",
              "      filter: drop-shadow(0px 1px 2px rgba(0, 0, 0, 0.3));\n",
              "      fill: #FFFFFF;\n",
              "    }\n",
              "  </style>\n",
              "\n",
              "    <script>\n",
              "      const buttonEl =\n",
              "        document.querySelector('#df-cea6bedc-dc2b-43a2-9e56-a941b77eff4c button.colab-df-convert');\n",
              "      buttonEl.style.display =\n",
              "        google.colab.kernel.accessAllowed ? 'block' : 'none';\n",
              "\n",
              "      async function convertToInteractive(key) {\n",
              "        const element = document.querySelector('#df-cea6bedc-dc2b-43a2-9e56-a941b77eff4c');\n",
              "        const dataTable =\n",
              "          await google.colab.kernel.invokeFunction('convertToInteractive',\n",
              "                                                    [key], {});\n",
              "        if (!dataTable) return;\n",
              "\n",
              "        const docLinkHtml = 'Like what you see? Visit the ' +\n",
              "          '<a target=\"_blank\" href=https://colab.research.google.com/notebooks/data_table.ipynb>data table notebook</a>'\n",
              "          + ' to learn more about interactive tables.';\n",
              "        element.innerHTML = '';\n",
              "        dataTable['output_type'] = 'display_data';\n",
              "        await google.colab.output.renderOutput(dataTable, element);\n",
              "        const docLink = document.createElement('div');\n",
              "        docLink.innerHTML = docLinkHtml;\n",
              "        element.appendChild(docLink);\n",
              "      }\n",
              "    </script>\n",
              "  </div>\n",
              "\n",
              "\n",
              "<div id=\"df-8042f54b-1b87-453f-bbc7-e629b8af60d2\">\n",
              "  <button class=\"colab-df-quickchart\" onclick=\"quickchart('df-8042f54b-1b87-453f-bbc7-e629b8af60d2')\"\n",
              "            title=\"Suggest charts\"\n",
              "            style=\"display:none;\">\n",
              "\n",
              "<svg xmlns=\"http://www.w3.org/2000/svg\" height=\"24px\"viewBox=\"0 0 24 24\"\n",
              "     width=\"24px\">\n",
              "    <g>\n",
              "        <path d=\"M19 3H5c-1.1 0-2 .9-2 2v14c0 1.1.9 2 2 2h14c1.1 0 2-.9 2-2V5c0-1.1-.9-2-2-2zM9 17H7v-7h2v7zm4 0h-2V7h2v10zm4 0h-2v-4h2v4z\"/>\n",
              "    </g>\n",
              "</svg>\n",
              "  </button>\n",
              "\n",
              "<style>\n",
              "  .colab-df-quickchart {\n",
              "      --bg-color: #E8F0FE;\n",
              "      --fill-color: #1967D2;\n",
              "      --hover-bg-color: #E2EBFA;\n",
              "      --hover-fill-color: #174EA6;\n",
              "      --disabled-fill-color: #AAA;\n",
              "      --disabled-bg-color: #DDD;\n",
              "  }\n",
              "\n",
              "  [theme=dark] .colab-df-quickchart {\n",
              "      --bg-color: #3B4455;\n",
              "      --fill-color: #D2E3FC;\n",
              "      --hover-bg-color: #434B5C;\n",
              "      --hover-fill-color: #FFFFFF;\n",
              "      --disabled-bg-color: #3B4455;\n",
              "      --disabled-fill-color: #666;\n",
              "  }\n",
              "\n",
              "  .colab-df-quickchart {\n",
              "    background-color: var(--bg-color);\n",
              "    border: none;\n",
              "    border-radius: 50%;\n",
              "    cursor: pointer;\n",
              "    display: none;\n",
              "    fill: var(--fill-color);\n",
              "    height: 32px;\n",
              "    padding: 0;\n",
              "    width: 32px;\n",
              "  }\n",
              "\n",
              "  .colab-df-quickchart:hover {\n",
              "    background-color: var(--hover-bg-color);\n",
              "    box-shadow: 0 1px 2px rgba(60, 64, 67, 0.3), 0 1px 3px 1px rgba(60, 64, 67, 0.15);\n",
              "    fill: var(--button-hover-fill-color);\n",
              "  }\n",
              "\n",
              "  .colab-df-quickchart-complete:disabled,\n",
              "  .colab-df-quickchart-complete:disabled:hover {\n",
              "    background-color: var(--disabled-bg-color);\n",
              "    fill: var(--disabled-fill-color);\n",
              "    box-shadow: none;\n",
              "  }\n",
              "\n",
              "  .colab-df-spinner {\n",
              "    border: 2px solid var(--fill-color);\n",
              "    border-color: transparent;\n",
              "    border-bottom-color: var(--fill-color);\n",
              "    animation:\n",
              "      spin 1s steps(1) infinite;\n",
              "  }\n",
              "\n",
              "  @keyframes spin {\n",
              "    0% {\n",
              "      border-color: transparent;\n",
              "      border-bottom-color: var(--fill-color);\n",
              "      border-left-color: var(--fill-color);\n",
              "    }\n",
              "    20% {\n",
              "      border-color: transparent;\n",
              "      border-left-color: var(--fill-color);\n",
              "      border-top-color: var(--fill-color);\n",
              "    }\n",
              "    30% {\n",
              "      border-color: transparent;\n",
              "      border-left-color: var(--fill-color);\n",
              "      border-top-color: var(--fill-color);\n",
              "      border-right-color: var(--fill-color);\n",
              "    }\n",
              "    40% {\n",
              "      border-color: transparent;\n",
              "      border-right-color: var(--fill-color);\n",
              "      border-top-color: var(--fill-color);\n",
              "    }\n",
              "    60% {\n",
              "      border-color: transparent;\n",
              "      border-right-color: var(--fill-color);\n",
              "    }\n",
              "    80% {\n",
              "      border-color: transparent;\n",
              "      border-right-color: var(--fill-color);\n",
              "      border-bottom-color: var(--fill-color);\n",
              "    }\n",
              "    90% {\n",
              "      border-color: transparent;\n",
              "      border-bottom-color: var(--fill-color);\n",
              "    }\n",
              "  }\n",
              "</style>\n",
              "\n",
              "  <script>\n",
              "    async function quickchart(key) {\n",
              "      const quickchartButtonEl =\n",
              "        document.querySelector('#' + key + ' button');\n",
              "      quickchartButtonEl.disabled = true;  // To prevent multiple clicks.\n",
              "      quickchartButtonEl.classList.add('colab-df-spinner');\n",
              "      try {\n",
              "        const charts = await google.colab.kernel.invokeFunction(\n",
              "            'suggestCharts', [key], {});\n",
              "      } catch (error) {\n",
              "        console.error('Error during call to suggestCharts:', error);\n",
              "      }\n",
              "      quickchartButtonEl.classList.remove('colab-df-spinner');\n",
              "      quickchartButtonEl.classList.add('colab-df-quickchart-complete');\n",
              "    }\n",
              "    (() => {\n",
              "      let quickchartButtonEl =\n",
              "        document.querySelector('#df-8042f54b-1b87-453f-bbc7-e629b8af60d2 button');\n",
              "      quickchartButtonEl.style.display =\n",
              "        google.colab.kernel.accessAllowed ? 'block' : 'none';\n",
              "    })();\n",
              "  </script>\n",
              "</div>\n",
              "\n",
              "    </div>\n",
              "  </div>\n"
            ],
            "application/vnd.google.colaboratory.intrinsic+json": {
              "type": "dataframe",
              "variable_name": "filtered_rows",
              "repr_error": "0"
            }
          },
          "metadata": {},
          "execution_count": 10
        }
      ]
    },
    {
      "cell_type": "code",
      "source": [
        "# Iterate over each column in the DataFrame\n",
        "for column in df_step2.columns:\n",
        "    # Count the number of unique values in the column\n",
        "    unique_count = df_step2[column].nunique()\n",
        "\n",
        "    # Calculate the ratio of unique values to total values in the column\n",
        "    uniqueness_ratio = unique_count / len(df_step2)\n",
        "\n",
        "    # Print the column name and its uniqueness ratio\n",
        "    print(f\"Column '{column}' has {unique_count} unique values, with a uniqueness ratio of {uniqueness_ratio:.2f}\")\n"
      ],
      "metadata": {
        "colab": {
          "base_uri": "https://localhost:8080/",
          "height": 0
        },
        "id": "uRiuHeCWUbUz",
        "outputId": "d6ca51af-3c14-4a2a-f80f-32e6fb18a9dd"
      },
      "execution_count": 11,
      "outputs": [
        {
          "output_type": "stream",
          "name": "stdout",
          "text": [
            "Column 'CertificateNumber' has 4091 unique values, with a uniqueness ratio of 1.00\n",
            "Column 'EntityName' has 4083 unique values, with a uniqueness ratio of 1.00\n",
            "Column ' TradeName' has 3683 unique values, with a uniqueness ratio of 0.90\n",
            "Column ' ABN' has 4083 unique values, with a uniqueness ratio of 1.00\n",
            "Column ' Status' has 1 unique values, with a uniqueness ratio of 0.00\n",
            "Column ' IssueDate' has 297 unique values, with a uniqueness ratio of 0.07\n",
            "Column ' ExpiryDate' has 296 unique values, with a uniqueness ratio of 0.07\n"
          ]
        }
      ]
    },
    {
      "cell_type": "markdown",
      "source": [
        "\n",
        "- With a uniqueness ratio of 1.00, each CertificateNumber is unique within the dataset.\n",
        "- This suggests that **CertificateNumber** could be a suitable candidate for a primary key in the dataset.\n",
        "- Additionally, in Step 1, we joined the datasets using the **ABN** as the foreign key.\n",
        "\n",
        "</font>\n",
        "\n"
      ],
      "metadata": {
        "id": "TlCjN0-nVxgg"
      }
    },
    {
      "cell_type": "code",
      "source": [],
      "metadata": {
        "id": "9Eal3ikbUhOz"
      },
      "execution_count": null,
      "outputs": []
    },
    {
      "cell_type": "markdown",
      "source": [
        "## Cleaning process for step3(Motor Dealer Organisation License Lists)"
      ],
      "metadata": {
        "id": "AEId-PYzX9Wn"
      }
    },
    {
      "cell_type": "code",
      "source": [
        "df_step3=pd.read_excel(\"/content/drive/My Drive/DB_ENGINEER/motor_organisation_license_step3.xlsx\")"
      ],
      "metadata": {
        "id": "tkzunUSKYrl5"
      },
      "execution_count": 26,
      "outputs": []
    },
    {
      "cell_type": "code",
      "source": [
        "null_values = df_step3.isnull().sum()\n",
        "print(null_values)"
      ],
      "metadata": {
        "colab": {
          "base_uri": "https://localhost:8080/",
          "height": 0
        },
        "id": "Tms21JXLYt4V",
        "outputId": "999bcb59-f2c9-41cd-bc7e-adb2ff559d1a"
      },
      "execution_count": 27,
      "outputs": [
        {
          "output_type": "stream",
          "name": "stdout",
          "text": [
            "Licence Number       0\n",
            "Issue Date           0\n",
            "Expiry Date          0\n",
            "Licensee             0\n",
            "Address Type         9\n",
            "Address              9\n",
            "Birth Year        2404\n",
            "ACN                  0\n",
            "ABN               1443\n",
            "Classes              0\n",
            "dtype: int64\n"
          ]
        }
      ]
    },
    {
      "cell_type": "code",
      "source": [
        "abn_duplicates = df_step3[df_step3['ACN'].duplicated()]\n",
        "abn_duplicates"
      ],
      "metadata": {
        "id": "zYWVDrHKYyEF"
      },
      "execution_count": null,
      "outputs": []
    },
    {
      "cell_type": "code",
      "source": [
        "df_sel=df_step3[df_step3[\"ACN\"]=='001 736 974']"
      ],
      "metadata": {
        "id": "A9aMLanjY5fU"
      },
      "execution_count": 29,
      "outputs": []
    },
    {
      "cell_type": "code",
      "source": [
        "df_ste13=pd.merge(df_step1,df_step3,left_on='abnNumber',right_on='ABN',how='inner')"
      ],
      "metadata": {
        "id": "-sG8f2tBY6G-"
      },
      "execution_count": 30,
      "outputs": []
    },
    {
      "cell_type": "code",
      "source": [
        "# Iterate over each column in the DataFrame\n",
        "for column in df_step3.columns:\n",
        "    # Count the number of unique values in the column\n",
        "    unique_count = df_step3[column].nunique()\n",
        "\n",
        "    # Calculate the ratio of unique values to total values in the column\n",
        "    uniqueness_ratio = unique_count / len(df_step3)\n",
        "\n",
        "    # Print the column name and its uniqueness ratio\n",
        "    print(f\"Column '{column}' has {unique_count} unique values, with a uniqueness ratio of {uniqueness_ratio:.2f}\")\n"
      ],
      "metadata": {
        "colab": {
          "base_uri": "https://localhost:8080/",
          "height": 0
        },
        "id": "xxdpFYi9Y8eD",
        "outputId": "c880ea7c-618a-474a-8c83-86745bc53185"
      },
      "execution_count": 26,
      "outputs": [
        {
          "output_type": "stream",
          "name": "stdout",
          "text": [
            "Column 'Licence Number' has 2404 unique values, with a uniqueness ratio of 1.00\n",
            "Column 'Issue Date' has 906 unique values, with a uniqueness ratio of 0.38\n",
            "Column 'Expiry Date' has 1155 unique values, with a uniqueness ratio of 0.48\n",
            "Column 'Licensee' has 2377 unique values, with a uniqueness ratio of 0.99\n",
            "Column 'Address Type' has 1 unique values, with a uniqueness ratio of 0.00\n",
            "Column 'Address' has 2340 unique values, with a uniqueness ratio of 0.97\n",
            "Column 'Birth Year' has 0 unique values, with a uniqueness ratio of 0.00\n",
            "Column 'ACN' has 2376 unique values, with a uniqueness ratio of 0.99\n",
            "Column 'ABN' has 951 unique values, with a uniqueness ratio of 0.40\n",
            "Column 'Classes' has 1 unique values, with a uniqueness ratio of 0.00\n"
          ]
        }
      ]
    },
    {
      "cell_type": "code",
      "source": [],
      "metadata": {
        "id": "JGoCIgUbZToY"
      },
      "execution_count": null,
      "outputs": []
    },
    {
      "cell_type": "markdown",
      "source": [
        "#\n",
        "- With a uniqueness ratio of 1.00, each **Licence Number** is unique within the dataset.\n",
        "- This suggests that Licence Number could be a suitable candidate for a primary key in the dataset.\n",
        "- Additionally, in Step 1, we joined the datasets using the **ABN** as the foreign key."
      ],
      "metadata": {
        "id": "uXdwryffZgrL"
      }
    },
    {
      "cell_type": "code",
      "source": [
        ""
      ],
      "metadata": {
        "id": "5hwGIqSPZo56"
      },
      "execution_count": null,
      "outputs": []
    },
    {
      "cell_type": "markdown",
      "source": [
        "## Cleaning process for step4(Australian Financial Services Licensees and Advisers_List)"
      ],
      "metadata": {
        "id": "Gx2Zj4HliWVv"
      }
    },
    {
      "cell_type": "code",
      "source": [
        "df_step_41 = pd.read_csv(\"/content/drive/My Drive/DB_ENGINEER/afs_lic_step_4.csv\")"
      ],
      "metadata": {
        "id": "e7mclBm_il1w"
      },
      "execution_count": 12,
      "outputs": []
    },
    {
      "cell_type": "code",
      "source": [
        "df_step_42=pd.read_excel(\"/content/drive/My Drive/DB_ENGINEER/financial_advisers_202404_step6.xlsx\")"
      ],
      "metadata": {
        "id": "X6LYNypBiycS"
      },
      "execution_count": 13,
      "outputs": []
    },
    {
      "cell_type": "code",
      "source": [
        "df_step_42=df_step_42.iloc[:,0:26]"
      ],
      "metadata": {
        "id": "0h7LqnmMjLwg"
      },
      "execution_count": 14,
      "outputs": []
    },
    {
      "cell_type": "code",
      "source": [
        "df_step_42 = df_step_42[df_step_42[\"ADV_ROLE_STATUS\"] == 'Current']\n"
      ],
      "metadata": {
        "id": "9rShdXcxjp0u"
      },
      "execution_count": 15,
      "outputs": []
    },
    {
      "cell_type": "code",
      "source": [
        "df_step_42=df_step_42.drop_duplicates()"
      ],
      "metadata": {
        "id": "ZSfIxQl_kBoT"
      },
      "execution_count": 16,
      "outputs": []
    },
    {
      "cell_type": "code",
      "source": [
        "# Iterate over each column in the DataFrame\n",
        "for column in df_step_41.columns:\n",
        "    # Count the number of unique values in the column\n",
        "    unique_count = df_step_41[column].nunique()\n",
        "\n",
        "    # Calculate the ratio of unique values to total values in the column\n",
        "    uniqueness_ratio = unique_count / len(df_step_41)\n",
        "\n",
        "    # Print the column name and its uniqueness ratio\n",
        "    print(f\"Column '{column}' has {unique_count} unique values, with a uniqueness ratio of {uniqueness_ratio:.2f}\")\n"
      ],
      "metadata": {
        "colab": {
          "base_uri": "https://localhost:8080/",
          "height": 0
        },
        "id": "4KmOlmOIkG3f",
        "outputId": "849a95dd-63ba-46eb-8482-7a15f1b9bf29"
      },
      "execution_count": 17,
      "outputs": [
        {
          "output_type": "stream",
          "name": "stdout",
          "text": [
            "Column 'REGISTER_NAME' has 1 unique values, with a uniqueness ratio of 0.00\n",
            "Column 'AFS_LIC_NUM' has 6402 unique values, with a uniqueness ratio of 1.00\n",
            "Column 'AFS_LIC_NAME' has 6402 unique values, with a uniqueness ratio of 1.00\n",
            "Column 'AFS_LIC_ABN_ACN' has 6402 unique values, with a uniqueness ratio of 1.00\n",
            "Column 'AFS_LIC_START_DT' has 3222 unique values, with a uniqueness ratio of 0.50\n",
            "Column 'AFS_LIC_PRE_FSR' has 1093 unique values, with a uniqueness ratio of 0.17\n",
            "Column 'AFS_LIC_ADD_LOCAL' has 969 unique values, with a uniqueness ratio of 0.15\n",
            "Column 'AFS_LIC_ADD_STATE' has 8 unique values, with a uniqueness ratio of 0.00\n",
            "Column 'AFS_LIC_ADD_PCODE' has 719 unique values, with a uniqueness ratio of 0.11\n",
            "Column 'AFS_LIC_ADD_COUNTRY' has 2 unique values, with a uniqueness ratio of 0.00\n",
            "Column 'AFS_LIC_LAT' has 995 unique values, with a uniqueness ratio of 0.16\n",
            "Column 'AFS_LIC_LNG' has 995 unique values, with a uniqueness ratio of 0.16\n",
            "Column 'AFS_LIC_CONDITION' has 3512 unique values, with a uniqueness ratio of 0.55\n"
          ]
        }
      ]
    },
    {
      "cell_type": "code",
      "source": [
        "# Iterate over each column in the DataFrame\n",
        "for column in df_step_42.columns:\n",
        "    # Count the number of unique values in the column\n",
        "    unique_count = df_step_42[column].nunique()\n",
        "\n",
        "    # Calculate the ratio of unique values to total values in the column\n",
        "    uniqueness_ratio = unique_count / len(df_step_42)\n",
        "\n",
        "    # Print the column name and its uniqueness ratio\n",
        "    print(f\"Column '{column}' has {unique_count} unique values, with a uniqueness ratio of {uniqueness_ratio:.2f}\")\n"
      ],
      "metadata": {
        "colab": {
          "base_uri": "https://localhost:8080/",
          "height": 0
        },
        "id": "heTYGlXHkgYt",
        "outputId": "6ab40e59-4d15-4cf2-e794-ccd10255b38c"
      },
      "execution_count": 18,
      "outputs": [
        {
          "output_type": "stream",
          "name": "stdout",
          "text": [
            "Column 'REGISTER_NAME' has 1 unique values, with a uniqueness ratio of 0.00\n",
            "Column 'ADV_NAME' has 15586 unique values, with a uniqueness ratio of 0.98\n",
            "Column 'ADV_NUMBER' has 15626 unique values, with a uniqueness ratio of 0.98\n",
            "Column 'ADV_ROLE' has 1 unique values, with a uniqueness ratio of 0.00\n",
            "Column 'ADV_SUB_TYPE' has 3 unique values, with a uniqueness ratio of 0.00\n",
            "Column 'ADV_ROLE_STATUS' has 1 unique values, with a uniqueness ratio of 0.00\n",
            "Column 'ADV_ABN' has 636 unique values, with a uniqueness ratio of 0.04\n",
            "Column 'ADV_FIRST_PROVIDED_ADVICE' has 56 unique values, with a uniqueness ratio of 0.00\n",
            "Column 'LICENCE_NAME' has 1877 unique values, with a uniqueness ratio of 0.12\n",
            "Column 'LICENCE_NUMBER' has 1877 unique values, with a uniqueness ratio of 0.12\n",
            "Column 'LICENCE_ABN' has 1142 unique values, with a uniqueness ratio of 0.07\n",
            "Column 'LICENCE_CONTROLLED_BY' has 944 unique values, with a uniqueness ratio of 0.06\n",
            "Column 'ADV_START_DT' has 3805 unique values, with a uniqueness ratio of 0.24\n",
            "Column 'ADV_END_DT' has 0 unique values, with a uniqueness ratio of 0.00\n",
            "Column 'OVERALL_REGISTRATION_STATUS' has 2 unique values, with a uniqueness ratio of 0.00\n",
            "Column 'REGISTRATION_STATUS_UNDER_AFSL' has 1 unique values, with a uniqueness ratio of 0.00\n",
            "Column 'REGISTRATION_START_DATE_UNDER_AFSL' has 163 unique values, with a uniqueness ratio of 0.01\n",
            "Column 'REGISTRATION_END_DATE_UNDER_AFSL' has 0 unique values, with a uniqueness ratio of 0.00\n",
            "Column 'ADV_CPD_FAILURE_YEAR' has 8 unique values, with a uniqueness ratio of 0.00\n",
            "Column 'ADV_ADD_LOCAL' has 1924 unique values, with a uniqueness ratio of 0.12\n",
            "Column 'ADV_ADD_STATE' has 8 unique values, with a uniqueness ratio of 0.00\n",
            "Column 'ADV_ADD_PCODE' has 980 unique values, with a uniqueness ratio of 0.06\n",
            "Column 'ADV_ADD_COUNTRY' has 1 unique values, with a uniqueness ratio of 0.00\n",
            "Column 'REP_APPOINTED_BY' has 3426 unique values, with a uniqueness ratio of 0.21\n",
            "Column 'REP_APPOINTED_NUM' has 3426 unique values, with a uniqueness ratio of 0.21\n",
            "Column 'REP_APPOINTED_ABN' has 2438 unique values, with a uniqueness ratio of 0.15\n"
          ]
        }
      ]
    },
    {
      "cell_type": "code",
      "source": [
        "#ADV_NUMB has high number unique vaalues which likely to take foriegn key"
      ],
      "metadata": {
        "id": "tX1qc6ydknok"
      },
      "execution_count": 36,
      "outputs": []
    },
    {
      "cell_type": "code",
      "source": [
        "df_step4=pd.merge(df_step_42,df_step_41,left_on='LICENCE_NUMBER',right_on='AFS_LIC_NUM',how='left')"
      ],
      "metadata": {
        "id": "fZ0D2ljWk0ZT"
      },
      "execution_count": 19,
      "outputs": []
    },
    {
      "cell_type": "code",
      "source": [
        "df_step4"
      ],
      "metadata": {
        "id": "yslDXe0rlfXy"
      },
      "execution_count": null,
      "outputs": []
    },
    {
      "cell_type": "code",
      "source": [
        "df_step4 = df_step4.drop_duplicates(subset=['ADV_NUMBER'])\n"
      ],
      "metadata": {
        "id": "tiwss6KsmBfy"
      },
      "execution_count": 21,
      "outputs": []
    },
    {
      "cell_type": "code",
      "source": [
        "# Iterate over each column in the DataFrame\n",
        "for column in df_step4.columns:\n",
        "    # Count the number of unique values in the column\n",
        "    unique_count = df_step4[column].nunique()\n",
        "\n",
        "    # Calculate the ratio of unique values to total values in the column\n",
        "    uniqueness_ratio = unique_count / len(df_step4)\n",
        "\n",
        "    # Print the column name and its uniqueness ratio\n",
        "    print(f\"Column '{column}' has {unique_count} unique values, with a uniqueness ratio of {uniqueness_ratio:.2f}\")\n"
      ],
      "metadata": {
        "colab": {
          "base_uri": "https://localhost:8080/",
          "height": 0
        },
        "id": "K5GiQv9hmRjD",
        "outputId": "b15c5575-2f6b-424e-827d-5e6bda85fc16"
      },
      "execution_count": 22,
      "outputs": [
        {
          "output_type": "stream",
          "name": "stdout",
          "text": [
            "Column 'REGISTER_NAME_x' has 1 unique values, with a uniqueness ratio of 0.00\n",
            "Column 'ADV_NAME' has 15586 unique values, with a uniqueness ratio of 1.00\n",
            "Column 'ADV_NUMBER' has 15626 unique values, with a uniqueness ratio of 1.00\n",
            "Column 'ADV_ROLE' has 1 unique values, with a uniqueness ratio of 0.00\n",
            "Column 'ADV_SUB_TYPE' has 3 unique values, with a uniqueness ratio of 0.00\n",
            "Column 'ADV_ROLE_STATUS' has 1 unique values, with a uniqueness ratio of 0.00\n",
            "Column 'ADV_ABN' has 636 unique values, with a uniqueness ratio of 0.04\n",
            "Column 'ADV_FIRST_PROVIDED_ADVICE' has 56 unique values, with a uniqueness ratio of 0.00\n",
            "Column 'LICENCE_NAME' has 1848 unique values, with a uniqueness ratio of 0.12\n",
            "Column 'LICENCE_NUMBER' has 1848 unique values, with a uniqueness ratio of 0.12\n",
            "Column 'LICENCE_ABN' has 1119 unique values, with a uniqueness ratio of 0.07\n",
            "Column 'LICENCE_CONTROLLED_BY' has 935 unique values, with a uniqueness ratio of 0.06\n",
            "Column 'ADV_START_DT' has 3783 unique values, with a uniqueness ratio of 0.24\n",
            "Column 'ADV_END_DT' has 0 unique values, with a uniqueness ratio of 0.00\n",
            "Column 'OVERALL_REGISTRATION_STATUS' has 2 unique values, with a uniqueness ratio of 0.00\n",
            "Column 'REGISTRATION_STATUS_UNDER_AFSL' has 1 unique values, with a uniqueness ratio of 0.00\n",
            "Column 'REGISTRATION_START_DATE_UNDER_AFSL' has 163 unique values, with a uniqueness ratio of 0.01\n",
            "Column 'REGISTRATION_END_DATE_UNDER_AFSL' has 0 unique values, with a uniqueness ratio of 0.00\n",
            "Column 'ADV_CPD_FAILURE_YEAR' has 8 unique values, with a uniqueness ratio of 0.00\n",
            "Column 'ADV_ADD_LOCAL' has 1914 unique values, with a uniqueness ratio of 0.12\n",
            "Column 'ADV_ADD_STATE' has 8 unique values, with a uniqueness ratio of 0.00\n",
            "Column 'ADV_ADD_PCODE' has 980 unique values, with a uniqueness ratio of 0.06\n",
            "Column 'ADV_ADD_COUNTRY' has 1 unique values, with a uniqueness ratio of 0.00\n",
            "Column 'REP_APPOINTED_BY' has 3355 unique values, with a uniqueness ratio of 0.21\n",
            "Column 'REP_APPOINTED_NUM' has 3355 unique values, with a uniqueness ratio of 0.21\n",
            "Column 'REP_APPOINTED_ABN' has 2390 unique values, with a uniqueness ratio of 0.15\n",
            "Column 'REGISTER_NAME_y' has 1 unique values, with a uniqueness ratio of 0.00\n",
            "Column 'AFS_LIC_NUM' has 1846 unique values, with a uniqueness ratio of 0.12\n",
            "Column 'AFS_LIC_NAME' has 1846 unique values, with a uniqueness ratio of 0.12\n",
            "Column 'AFS_LIC_ABN_ACN' has 1846 unique values, with a uniqueness ratio of 0.12\n",
            "Column 'AFS_LIC_START_DT' has 1370 unique values, with a uniqueness ratio of 0.09\n",
            "Column 'AFS_LIC_PRE_FSR' has 285 unique values, with a uniqueness ratio of 0.02\n",
            "Column 'AFS_LIC_ADD_LOCAL' has 592 unique values, with a uniqueness ratio of 0.04\n",
            "Column 'AFS_LIC_ADD_STATE' has 7 unique values, with a uniqueness ratio of 0.00\n",
            "Column 'AFS_LIC_ADD_PCODE' has 481 unique values, with a uniqueness ratio of 0.03\n",
            "Column 'AFS_LIC_ADD_COUNTRY' has 2 unique values, with a uniqueness ratio of 0.00\n",
            "Column 'AFS_LIC_LAT' has 606 unique values, with a uniqueness ratio of 0.04\n",
            "Column 'AFS_LIC_LNG' has 606 unique values, with a uniqueness ratio of 0.04\n",
            "Column 'AFS_LIC_CONDITION' has 493 unique values, with a uniqueness ratio of 0.03\n"
          ]
        }
      ]
    },
    {
      "cell_type": "code",
      "source": [
        "#we can remove with very less unique vlaues to remove redundency like AFS_LIC_ADD_COUNTRY,REGISTER_NAME_y,ADV_ADD_COUNTRY"
      ],
      "metadata": {
        "id": "7WrUYdd2mX3v"
      },
      "execution_count": 45,
      "outputs": []
    },
    {
      "cell_type": "markdown",
      "source": [
        "#\n",
        "- With a uniqueness ratio of 1.00, each **ADV_NUMBER** is unique within the dataset.\n",
        "- This suggests that ADV_NUMBER could be a suitable candidate for a primary key in the dataset.\n",
        "- Additionally, in Step 1, we joined the datasets using the **ADV_ABN** as the foreign key."
      ],
      "metadata": {
        "id": "RGco1bpZmsBa"
      }
    },
    {
      "cell_type": "code",
      "source": [],
      "metadata": {
        "id": "1fcu4u-5nESI"
      },
      "execution_count": null,
      "outputs": []
    },
    {
      "cell_type": "markdown",
      "source": [
        "## Cleaning process for step5(Victorian Government Schools details)"
      ],
      "metadata": {
        "id": "gYyngJIynK8T"
      }
    },
    {
      "cell_type": "code",
      "source": [
        "df_step5=pd.read_excel(\"/content/drive/My Drive/DB_ENGINEER/schoolABNdetails_step5.xlsx\")"
      ],
      "metadata": {
        "id": "bX-wdGfqnyv3"
      },
      "execution_count": 23,
      "outputs": []
    },
    {
      "cell_type": "code",
      "source": [
        "df_step5.columns"
      ],
      "metadata": {
        "colab": {
          "base_uri": "https://localhost:8080/",
          "height": 0
        },
        "id": "JZwZOu-3n8ZM",
        "outputId": "6cb3164d-eff1-4cf6-9c55-0ffb4c6d6896"
      },
      "execution_count": 24,
      "outputs": [
        {
          "output_type": "execute_result",
          "data": {
            "text/plain": [
              "Index(['SchoolNumber', 'SchoolName', 'Fin_Period', 'LoadDate', 'ABN'], dtype='object')"
            ]
          },
          "metadata": {},
          "execution_count": 24
        }
      ]
    },
    {
      "cell_type": "code",
      "source": [
        "df_step5.nunique()"
      ],
      "metadata": {
        "colab": {
          "base_uri": "https://localhost:8080/",
          "height": 0
        },
        "id": "71A77N9Bn_CY",
        "outputId": "3b13696b-5c70-45ad-cb80-e912be18e7fe"
      },
      "execution_count": 25,
      "outputs": [
        {
          "output_type": "execute_result",
          "data": {
            "text/plain": [
              "SchoolNumber    1540\n",
              "SchoolName      1540\n",
              "Fin_Period         1\n",
              "LoadDate        1540\n",
              "ABN             1540\n",
              "dtype: int64"
            ]
          },
          "metadata": {},
          "execution_count": 25
        }
      ]
    },
    {
      "cell_type": "code",
      "source": [
        "#we can remove the column Fin_Period to remove redundancy"
      ],
      "metadata": {
        "id": "A-LR4BhWoCcr"
      },
      "execution_count": 46,
      "outputs": []
    },
    {
      "cell_type": "code",
      "source": [
        "df_step1.dtypes"
      ],
      "metadata": {
        "colab": {
          "base_uri": "https://localhost:8080/",
          "height": 0
        },
        "id": "dDEe2vM1ob07",
        "outputId": "733c8995-d742-4405-f0ce-d7c6ac984df4"
      },
      "execution_count": 47,
      "outputs": [
        {
          "output_type": "execute_result",
          "data": {
            "text/plain": [
              "recordLastUpdated      int64\n",
              "recordReplaced        object\n",
              "abnStatus             object\n",
              "abnStatusDate          int64\n",
              "abnNumber              int64\n",
              "entityTypeIND         object\n",
              "entityTypeText        object\n",
              "nameType              object\n",
              "nameText              object\n",
              "state                 object\n",
              "postcode             float64\n",
              "asicType              object\n",
              "asicNumber           float64\n",
              "gstStatus             object\n",
              "gstStatusDate          int64\n",
              "dgrNameType           object\n",
              "dgrNameText           object\n",
              "dgrStatusDate        float64\n",
              "otherEntities         object\n",
              "dtype: object"
            ]
          },
          "metadata": {},
          "execution_count": 47
        }
      ]
    },
    {
      "cell_type": "code",
      "source": [
        "df_step5.dtypes"
      ],
      "metadata": {
        "colab": {
          "base_uri": "https://localhost:8080/",
          "height": 0
        },
        "id": "YSrUnKq0oeNl",
        "outputId": "90e66416-e8b3-46ba-a49d-cd31847d5e4e"
      },
      "execution_count": 48,
      "outputs": [
        {
          "output_type": "execute_result",
          "data": {
            "text/plain": [
              "SchoolNumber             int64\n",
              "SchoolName              object\n",
              "Fin_Period               int64\n",
              "LoadDate        datetime64[ns]\n",
              "ABN                     object\n",
              "dtype: object"
            ]
          },
          "metadata": {},
          "execution_count": 48
        }
      ]
    },
    {
      "cell_type": "code",
      "source": [
        "# Remove non-numeric characters and spaces from 'ABN' column\n",
        "df_step5['ABN'] = df_step5['ABN'].str.replace(r'\\D', '', regex=True)\n",
        "\n",
        "# Convert 'ABN' column to int64\n",
        "df_step5['ABN'] = df_step5['ABN'].astype('int64')\n"
      ],
      "metadata": {
        "id": "B-jNAP7Sokdt"
      },
      "execution_count": 49,
      "outputs": []
    },
    {
      "cell_type": "code",
      "source": [
        "df_step15=pd.merge(df_step1,df_step5,left_on='abnNumber',right_on='ABN',how='inner')"
      ],
      "metadata": {
        "id": "JoKUvkcMol_v"
      },
      "execution_count": 50,
      "outputs": []
    },
    {
      "cell_type": "code",
      "source": [
        "df_step15"
      ],
      "metadata": {
        "id": "zl1gvoR4o3wC"
      },
      "execution_count": null,
      "outputs": []
    },
    {
      "cell_type": "code",
      "source": [
        "df_step25=pd.merge(df_step2,df_step5,left_on=' ABN',right_on='ABN',how='inner')"
      ],
      "metadata": {
        "id": "h9Bfp5HCo6o9"
      },
      "execution_count": 52,
      "outputs": []
    },
    {
      "cell_type": "code",
      "source": [
        "df_step25"
      ],
      "metadata": {
        "colab": {
          "base_uri": "https://localhost:8080/",
          "height": 109
        },
        "id": "lBFjBnV4pA3d",
        "outputId": "d4bd93b3-0b2e-4b6f-b7c2-48191613085e"
      },
      "execution_count": 53,
      "outputs": [
        {
          "output_type": "execute_result",
          "data": {
            "text/plain": [
              "Empty DataFrame\n",
              "Columns: [CertificateNumber, EntityName,  TradeName,  ABN,  Status,  IssueDate,  ExpiryDate, SchoolNumber, SchoolName, Fin_Period, LoadDate, ABN]\n",
              "Index: []"
            ],
            "text/html": [
              "\n",
              "  <div id=\"df-0e70cdd4-1bf5-4867-ab83-18c1e8b152d0\" class=\"colab-df-container\">\n",
              "    <div>\n",
              "<style scoped>\n",
              "    .dataframe tbody tr th:only-of-type {\n",
              "        vertical-align: middle;\n",
              "    }\n",
              "\n",
              "    .dataframe tbody tr th {\n",
              "        vertical-align: top;\n",
              "    }\n",
              "\n",
              "    .dataframe thead th {\n",
              "        text-align: right;\n",
              "    }\n",
              "</style>\n",
              "<table border=\"1\" class=\"dataframe\">\n",
              "  <thead>\n",
              "    <tr style=\"text-align: right;\">\n",
              "      <th></th>\n",
              "      <th>CertificateNumber</th>\n",
              "      <th>EntityName</th>\n",
              "      <th>TradeName</th>\n",
              "      <th>ABN</th>\n",
              "      <th>Status</th>\n",
              "      <th>IssueDate</th>\n",
              "      <th>ExpiryDate</th>\n",
              "      <th>SchoolNumber</th>\n",
              "      <th>SchoolName</th>\n",
              "      <th>Fin_Period</th>\n",
              "      <th>LoadDate</th>\n",
              "      <th>ABN</th>\n",
              "    </tr>\n",
              "  </thead>\n",
              "  <tbody>\n",
              "  </tbody>\n",
              "</table>\n",
              "</div>\n",
              "    <div class=\"colab-df-buttons\">\n",
              "\n",
              "  <div class=\"colab-df-container\">\n",
              "    <button class=\"colab-df-convert\" onclick=\"convertToInteractive('df-0e70cdd4-1bf5-4867-ab83-18c1e8b152d0')\"\n",
              "            title=\"Convert this dataframe to an interactive table.\"\n",
              "            style=\"display:none;\">\n",
              "\n",
              "  <svg xmlns=\"http://www.w3.org/2000/svg\" height=\"24px\" viewBox=\"0 -960 960 960\">\n",
              "    <path d=\"M120-120v-720h720v720H120Zm60-500h600v-160H180v160Zm220 220h160v-160H400v160Zm0 220h160v-160H400v160ZM180-400h160v-160H180v160Zm440 0h160v-160H620v160ZM180-180h160v-160H180v160Zm440 0h160v-160H620v160Z\"/>\n",
              "  </svg>\n",
              "    </button>\n",
              "\n",
              "  <style>\n",
              "    .colab-df-container {\n",
              "      display:flex;\n",
              "      gap: 12px;\n",
              "    }\n",
              "\n",
              "    .colab-df-convert {\n",
              "      background-color: #E8F0FE;\n",
              "      border: none;\n",
              "      border-radius: 50%;\n",
              "      cursor: pointer;\n",
              "      display: none;\n",
              "      fill: #1967D2;\n",
              "      height: 32px;\n",
              "      padding: 0 0 0 0;\n",
              "      width: 32px;\n",
              "    }\n",
              "\n",
              "    .colab-df-convert:hover {\n",
              "      background-color: #E2EBFA;\n",
              "      box-shadow: 0px 1px 2px rgba(60, 64, 67, 0.3), 0px 1px 3px 1px rgba(60, 64, 67, 0.15);\n",
              "      fill: #174EA6;\n",
              "    }\n",
              "\n",
              "    .colab-df-buttons div {\n",
              "      margin-bottom: 4px;\n",
              "    }\n",
              "\n",
              "    [theme=dark] .colab-df-convert {\n",
              "      background-color: #3B4455;\n",
              "      fill: #D2E3FC;\n",
              "    }\n",
              "\n",
              "    [theme=dark] .colab-df-convert:hover {\n",
              "      background-color: #434B5C;\n",
              "      box-shadow: 0px 1px 3px 1px rgba(0, 0, 0, 0.15);\n",
              "      filter: drop-shadow(0px 1px 2px rgba(0, 0, 0, 0.3));\n",
              "      fill: #FFFFFF;\n",
              "    }\n",
              "  </style>\n",
              "\n",
              "    <script>\n",
              "      const buttonEl =\n",
              "        document.querySelector('#df-0e70cdd4-1bf5-4867-ab83-18c1e8b152d0 button.colab-df-convert');\n",
              "      buttonEl.style.display =\n",
              "        google.colab.kernel.accessAllowed ? 'block' : 'none';\n",
              "\n",
              "      async function convertToInteractive(key) {\n",
              "        const element = document.querySelector('#df-0e70cdd4-1bf5-4867-ab83-18c1e8b152d0');\n",
              "        const dataTable =\n",
              "          await google.colab.kernel.invokeFunction('convertToInteractive',\n",
              "                                                    [key], {});\n",
              "        if (!dataTable) return;\n",
              "\n",
              "        const docLinkHtml = 'Like what you see? Visit the ' +\n",
              "          '<a target=\"_blank\" href=https://colab.research.google.com/notebooks/data_table.ipynb>data table notebook</a>'\n",
              "          + ' to learn more about interactive tables.';\n",
              "        element.innerHTML = '';\n",
              "        dataTable['output_type'] = 'display_data';\n",
              "        await google.colab.output.renderOutput(dataTable, element);\n",
              "        const docLink = document.createElement('div');\n",
              "        docLink.innerHTML = docLinkHtml;\n",
              "        element.appendChild(docLink);\n",
              "      }\n",
              "    </script>\n",
              "  </div>\n",
              "\n",
              "\n",
              "  <div id=\"id_83d956a2-796c-4420-9ab9-3e0189e7d10c\">\n",
              "    <style>\n",
              "      .colab-df-generate {\n",
              "        background-color: #E8F0FE;\n",
              "        border: none;\n",
              "        border-radius: 50%;\n",
              "        cursor: pointer;\n",
              "        display: none;\n",
              "        fill: #1967D2;\n",
              "        height: 32px;\n",
              "        padding: 0 0 0 0;\n",
              "        width: 32px;\n",
              "      }\n",
              "\n",
              "      .colab-df-generate:hover {\n",
              "        background-color: #E2EBFA;\n",
              "        box-shadow: 0px 1px 2px rgba(60, 64, 67, 0.3), 0px 1px 3px 1px rgba(60, 64, 67, 0.15);\n",
              "        fill: #174EA6;\n",
              "      }\n",
              "\n",
              "      [theme=dark] .colab-df-generate {\n",
              "        background-color: #3B4455;\n",
              "        fill: #D2E3FC;\n",
              "      }\n",
              "\n",
              "      [theme=dark] .colab-df-generate:hover {\n",
              "        background-color: #434B5C;\n",
              "        box-shadow: 0px 1px 3px 1px rgba(0, 0, 0, 0.15);\n",
              "        filter: drop-shadow(0px 1px 2px rgba(0, 0, 0, 0.3));\n",
              "        fill: #FFFFFF;\n",
              "      }\n",
              "    </style>\n",
              "    <button class=\"colab-df-generate\" onclick=\"generateWithVariable('df_step25')\"\n",
              "            title=\"Generate code using this dataframe.\"\n",
              "            style=\"display:none;\">\n",
              "\n",
              "  <svg xmlns=\"http://www.w3.org/2000/svg\" height=\"24px\"viewBox=\"0 0 24 24\"\n",
              "       width=\"24px\">\n",
              "    <path d=\"M7,19H8.4L18.45,9,17,7.55,7,17.6ZM5,21V16.75L18.45,3.32a2,2,0,0,1,2.83,0l1.4,1.43a1.91,1.91,0,0,1,.58,1.4,1.91,1.91,0,0,1-.58,1.4L9.25,21ZM18.45,9,17,7.55Zm-12,3A5.31,5.31,0,0,0,4.9,8.1,5.31,5.31,0,0,0,1,6.5,5.31,5.31,0,0,0,4.9,4.9,5.31,5.31,0,0,0,6.5,1,5.31,5.31,0,0,0,8.1,4.9,5.31,5.31,0,0,0,12,6.5,5.46,5.46,0,0,0,6.5,12Z\"/>\n",
              "  </svg>\n",
              "    </button>\n",
              "    <script>\n",
              "      (() => {\n",
              "      const buttonEl =\n",
              "        document.querySelector('#id_83d956a2-796c-4420-9ab9-3e0189e7d10c button.colab-df-generate');\n",
              "      buttonEl.style.display =\n",
              "        google.colab.kernel.accessAllowed ? 'block' : 'none';\n",
              "\n",
              "      buttonEl.onclick = () => {\n",
              "        google.colab.notebook.generateWithVariable('df_step25');\n",
              "      }\n",
              "      })();\n",
              "    </script>\n",
              "  </div>\n",
              "\n",
              "    </div>\n",
              "  </div>\n"
            ],
            "application/vnd.google.colaboratory.intrinsic+json": {
              "type": "dataframe",
              "variable_name": "df_step25",
              "repr_error": "Out of range float values are not JSON compliant: nan"
            }
          },
          "metadata": {},
          "execution_count": 53
        }
      ]
    },
    {
      "cell_type": "code",
      "source": [],
      "metadata": {
        "id": "Lx1ZAKVlpBYb"
      },
      "execution_count": null,
      "outputs": []
    },
    {
      "cell_type": "markdown",
      "source": [
        "## Final EDA , Integration and Normalisation(if required)"
      ],
      "metadata": {
        "id": "kq1bLtdjpP9A"
      }
    },
    {
      "cell_type": "code",
      "source": [
        "df_1 =df_step1\n",
        "df_2 =df_step2\n",
        "df_3 =df_step3\n",
        "df_4 =df_step4\n",
        "df_5 =df_step5\n",
        "\n",
        "# EDA for each dataset\n",
        "print(\"Step 1 EDA:\")\n",
        "print(df_1.info())\n",
        "print(df_1.describe())\n",
        "\n",
        "print(\"Step 2 EDA:\")\n",
        "print(df_2.info())\n",
        "print(df_2.describe())\n",
        "\n",
        "print(\"Step 3 EDA:\")\n",
        "print(df_3.info())\n",
        "print(df_3.describe())\n",
        "\n",
        "print(\"Step 4 EDA:\")\n",
        "print(df_4.info())\n",
        "print(df_4.describe())\n",
        "\n",
        "print(\"Step 5 EDA:\")\n",
        "print(df_5.info())\n",
        "print(df_5.describe())\n"
      ],
      "metadata": {
        "id": "dLlLUWAGpU1w"
      },
      "execution_count": null,
      "outputs": []
    },
    {
      "cell_type": "code",
      "source": [
        "merged_df = pd.merge(df_1, df_2, left_on='abnNumber', right_on=' ABN', how='inner')\n",
        "merged_df = pd.merge(merged_df, df_3, left_on='abnNumber', right_on='ABN', how='inner')\n",
        "merged_df = pd.merge(merged_df, df_4, left_on='abnNumber', right_on='LICENCE_ABN', how='inner')\n",
        "merged_df = pd.merge(merged_df, df_5, left_on='abnNumber', right_on='ABN', how='inner')"
      ],
      "metadata": {
        "id": "Os6xJ76jpduJ"
      },
      "execution_count": 55,
      "outputs": []
    },
    {
      "cell_type": "code",
      "source": [
        "merged_df"
      ],
      "metadata": {
        "colab": {
          "base_uri": "https://localhost:8080/",
          "height": 109
        },
        "id": "cHaeArwNpj-u",
        "outputId": "c4524ec6-cbdc-4588-bfe9-b2f16553b7e5"
      },
      "execution_count": 56,
      "outputs": [
        {
          "output_type": "execute_result",
          "data": {
            "text/plain": [
              "Empty DataFrame\n",
              "Columns: [recordLastUpdated, recordReplaced, abnStatus, abnStatusDate, abnNumber, entityTypeIND, entityTypeText, nameType, nameText, state, postcode, asicType, asicNumber, gstStatus, gstStatusDate, dgrNameType, dgrNameText, dgrStatusDate, otherEntities, CertificateNumber, EntityName,  TradeName,  ABN,  Status,  IssueDate,  ExpiryDate, Licence Number, Issue Date, Expiry Date, Licensee, Address Type, Address, Birth Year, ACN, ABN_x, Classes, REGISTER_NAME_x, ADV_NAME, ADV_NUMBER, ADV_ROLE, ADV_SUB_TYPE, ADV_ROLE_STATUS, ADV_ABN, ADV_FIRST_PROVIDED_ADVICE, LICENCE_NAME, LICENCE_NUMBER, LICENCE_ABN, LICENCE_CONTROLLED_BY, ADV_START_DT, ADV_END_DT, OVERALL_REGISTRATION_STATUS, REGISTRATION_STATUS_UNDER_AFSL, REGISTRATION_START_DATE_UNDER_AFSL, REGISTRATION_END_DATE_UNDER_AFSL, ADV_CPD_FAILURE_YEAR, ADV_ADD_LOCAL, ADV_ADD_STATE, ADV_ADD_PCODE, ADV_ADD_COUNTRY, REP_APPOINTED_BY, REP_APPOINTED_NUM, REP_APPOINTED_ABN, REGISTER_NAME_y, AFS_LIC_NUM, AFS_LIC_NAME, AFS_LIC_ABN_ACN, AFS_LIC_START_DT, AFS_LIC_PRE_FSR, AFS_LIC_ADD_LOCAL, AFS_LIC_ADD_STATE, AFS_LIC_ADD_PCODE, AFS_LIC_ADD_COUNTRY, AFS_LIC_LAT, AFS_LIC_LNG, AFS_LIC_CONDITION, SchoolNumber, SchoolName, Fin_Period, LoadDate, ABN_y]\n",
              "Index: []\n",
              "\n",
              "[0 rows x 80 columns]"
            ],
            "text/html": [
              "\n",
              "  <div id=\"df-4d47adb6-710b-48a4-b56f-c1e24ce47f89\" class=\"colab-df-container\">\n",
              "    <div>\n",
              "<style scoped>\n",
              "    .dataframe tbody tr th:only-of-type {\n",
              "        vertical-align: middle;\n",
              "    }\n",
              "\n",
              "    .dataframe tbody tr th {\n",
              "        vertical-align: top;\n",
              "    }\n",
              "\n",
              "    .dataframe thead th {\n",
              "        text-align: right;\n",
              "    }\n",
              "</style>\n",
              "<table border=\"1\" class=\"dataframe\">\n",
              "  <thead>\n",
              "    <tr style=\"text-align: right;\">\n",
              "      <th></th>\n",
              "      <th>recordLastUpdated</th>\n",
              "      <th>recordReplaced</th>\n",
              "      <th>abnStatus</th>\n",
              "      <th>abnStatusDate</th>\n",
              "      <th>abnNumber</th>\n",
              "      <th>entityTypeIND</th>\n",
              "      <th>entityTypeText</th>\n",
              "      <th>nameType</th>\n",
              "      <th>nameText</th>\n",
              "      <th>state</th>\n",
              "      <th>...</th>\n",
              "      <th>AFS_LIC_ADD_PCODE</th>\n",
              "      <th>AFS_LIC_ADD_COUNTRY</th>\n",
              "      <th>AFS_LIC_LAT</th>\n",
              "      <th>AFS_LIC_LNG</th>\n",
              "      <th>AFS_LIC_CONDITION</th>\n",
              "      <th>SchoolNumber</th>\n",
              "      <th>SchoolName</th>\n",
              "      <th>Fin_Period</th>\n",
              "      <th>LoadDate</th>\n",
              "      <th>ABN_y</th>\n",
              "    </tr>\n",
              "  </thead>\n",
              "  <tbody>\n",
              "  </tbody>\n",
              "</table>\n",
              "<p>0 rows × 80 columns</p>\n",
              "</div>\n",
              "    <div class=\"colab-df-buttons\">\n",
              "\n",
              "  <div class=\"colab-df-container\">\n",
              "    <button class=\"colab-df-convert\" onclick=\"convertToInteractive('df-4d47adb6-710b-48a4-b56f-c1e24ce47f89')\"\n",
              "            title=\"Convert this dataframe to an interactive table.\"\n",
              "            style=\"display:none;\">\n",
              "\n",
              "  <svg xmlns=\"http://www.w3.org/2000/svg\" height=\"24px\" viewBox=\"0 -960 960 960\">\n",
              "    <path d=\"M120-120v-720h720v720H120Zm60-500h600v-160H180v160Zm220 220h160v-160H400v160Zm0 220h160v-160H400v160ZM180-400h160v-160H180v160Zm440 0h160v-160H620v160ZM180-180h160v-160H180v160Zm440 0h160v-160H620v160Z\"/>\n",
              "  </svg>\n",
              "    </button>\n",
              "\n",
              "  <style>\n",
              "    .colab-df-container {\n",
              "      display:flex;\n",
              "      gap: 12px;\n",
              "    }\n",
              "\n",
              "    .colab-df-convert {\n",
              "      background-color: #E8F0FE;\n",
              "      border: none;\n",
              "      border-radius: 50%;\n",
              "      cursor: pointer;\n",
              "      display: none;\n",
              "      fill: #1967D2;\n",
              "      height: 32px;\n",
              "      padding: 0 0 0 0;\n",
              "      width: 32px;\n",
              "    }\n",
              "\n",
              "    .colab-df-convert:hover {\n",
              "      background-color: #E2EBFA;\n",
              "      box-shadow: 0px 1px 2px rgba(60, 64, 67, 0.3), 0px 1px 3px 1px rgba(60, 64, 67, 0.15);\n",
              "      fill: #174EA6;\n",
              "    }\n",
              "\n",
              "    .colab-df-buttons div {\n",
              "      margin-bottom: 4px;\n",
              "    }\n",
              "\n",
              "    [theme=dark] .colab-df-convert {\n",
              "      background-color: #3B4455;\n",
              "      fill: #D2E3FC;\n",
              "    }\n",
              "\n",
              "    [theme=dark] .colab-df-convert:hover {\n",
              "      background-color: #434B5C;\n",
              "      box-shadow: 0px 1px 3px 1px rgba(0, 0, 0, 0.15);\n",
              "      filter: drop-shadow(0px 1px 2px rgba(0, 0, 0, 0.3));\n",
              "      fill: #FFFFFF;\n",
              "    }\n",
              "  </style>\n",
              "\n",
              "    <script>\n",
              "      const buttonEl =\n",
              "        document.querySelector('#df-4d47adb6-710b-48a4-b56f-c1e24ce47f89 button.colab-df-convert');\n",
              "      buttonEl.style.display =\n",
              "        google.colab.kernel.accessAllowed ? 'block' : 'none';\n",
              "\n",
              "      async function convertToInteractive(key) {\n",
              "        const element = document.querySelector('#df-4d47adb6-710b-48a4-b56f-c1e24ce47f89');\n",
              "        const dataTable =\n",
              "          await google.colab.kernel.invokeFunction('convertToInteractive',\n",
              "                                                    [key], {});\n",
              "        if (!dataTable) return;\n",
              "\n",
              "        const docLinkHtml = 'Like what you see? Visit the ' +\n",
              "          '<a target=\"_blank\" href=https://colab.research.google.com/notebooks/data_table.ipynb>data table notebook</a>'\n",
              "          + ' to learn more about interactive tables.';\n",
              "        element.innerHTML = '';\n",
              "        dataTable['output_type'] = 'display_data';\n",
              "        await google.colab.output.renderOutput(dataTable, element);\n",
              "        const docLink = document.createElement('div');\n",
              "        docLink.innerHTML = docLinkHtml;\n",
              "        element.appendChild(docLink);\n",
              "      }\n",
              "    </script>\n",
              "  </div>\n",
              "\n",
              "\n",
              "  <div id=\"id_807c15f3-6df9-4213-b51b-ca9087678320\">\n",
              "    <style>\n",
              "      .colab-df-generate {\n",
              "        background-color: #E8F0FE;\n",
              "        border: none;\n",
              "        border-radius: 50%;\n",
              "        cursor: pointer;\n",
              "        display: none;\n",
              "        fill: #1967D2;\n",
              "        height: 32px;\n",
              "        padding: 0 0 0 0;\n",
              "        width: 32px;\n",
              "      }\n",
              "\n",
              "      .colab-df-generate:hover {\n",
              "        background-color: #E2EBFA;\n",
              "        box-shadow: 0px 1px 2px rgba(60, 64, 67, 0.3), 0px 1px 3px 1px rgba(60, 64, 67, 0.15);\n",
              "        fill: #174EA6;\n",
              "      }\n",
              "\n",
              "      [theme=dark] .colab-df-generate {\n",
              "        background-color: #3B4455;\n",
              "        fill: #D2E3FC;\n",
              "      }\n",
              "\n",
              "      [theme=dark] .colab-df-generate:hover {\n",
              "        background-color: #434B5C;\n",
              "        box-shadow: 0px 1px 3px 1px rgba(0, 0, 0, 0.15);\n",
              "        filter: drop-shadow(0px 1px 2px rgba(0, 0, 0, 0.3));\n",
              "        fill: #FFFFFF;\n",
              "      }\n",
              "    </style>\n",
              "    <button class=\"colab-df-generate\" onclick=\"generateWithVariable('merged_df')\"\n",
              "            title=\"Generate code using this dataframe.\"\n",
              "            style=\"display:none;\">\n",
              "\n",
              "  <svg xmlns=\"http://www.w3.org/2000/svg\" height=\"24px\"viewBox=\"0 0 24 24\"\n",
              "       width=\"24px\">\n",
              "    <path d=\"M7,19H8.4L18.45,9,17,7.55,7,17.6ZM5,21V16.75L18.45,3.32a2,2,0,0,1,2.83,0l1.4,1.43a1.91,1.91,0,0,1,.58,1.4,1.91,1.91,0,0,1-.58,1.4L9.25,21ZM18.45,9,17,7.55Zm-12,3A5.31,5.31,0,0,0,4.9,8.1,5.31,5.31,0,0,0,1,6.5,5.31,5.31,0,0,0,4.9,4.9,5.31,5.31,0,0,0,6.5,1,5.31,5.31,0,0,0,8.1,4.9,5.31,5.31,0,0,0,12,6.5,5.46,5.46,0,0,0,6.5,12Z\"/>\n",
              "  </svg>\n",
              "    </button>\n",
              "    <script>\n",
              "      (() => {\n",
              "      const buttonEl =\n",
              "        document.querySelector('#id_807c15f3-6df9-4213-b51b-ca9087678320 button.colab-df-generate');\n",
              "      buttonEl.style.display =\n",
              "        google.colab.kernel.accessAllowed ? 'block' : 'none';\n",
              "\n",
              "      buttonEl.onclick = () => {\n",
              "        google.colab.notebook.generateWithVariable('merged_df');\n",
              "      }\n",
              "      })();\n",
              "    </script>\n",
              "  </div>\n",
              "\n",
              "    </div>\n",
              "  </div>\n"
            ],
            "application/vnd.google.colaboratory.intrinsic+json": {
              "type": "dataframe",
              "variable_name": "merged_df"
            }
          },
          "metadata": {},
          "execution_count": 56
        }
      ]
    },
    {
      "cell_type": "code",
      "source": [],
      "metadata": {
        "id": "gwG90t2npmjo"
      },
      "execution_count": 57,
      "outputs": []
    },
    {
      "cell_type": "markdown",
      "source": [
        "##\n",
        "- The absence of common fields across all datasets suggests that there are no direct relationships between them based on shared attributes.\n",
        "- Upon individual examination, it's observed that each of the datasets (df_2, df_3, df_4, and df_5) exhibits relationships with df_1, albeit with minimal dependencies between them.\n",
        "- Specifically, df_3 and df_4 possess their own primary keys, while LICENCE_NUMBER serves as a link between them, indicating a relationship between the two.\n",
        "- Given the distinct relationships between df_1 and the other datasets, and the minimal interdependency among the latter, it's deemed appropriate to maintain all five tables separately.\n",
        "- Consequently, the need for extensive normalization, as previously conducted, is mitigated due to the lack of significant redundancy among the tables."
      ],
      "metadata": {
        "id": "JqBGNaGurhPB"
      }
    },
    {
      "cell_type": "markdown",
      "source": [
        "## Fianl load into SQLite DataBase\n",
        "-later which we can connet to DBeaver to access them locally"
      ],
      "metadata": {
        "id": "yjX6Pe97r48A"
      }
    },
    {
      "cell_type": "code",
      "source": [
        "import sqlite3\n",
        "\n",
        "# Create a connection to the SQLite database\n",
        "conn = sqlite3.connect('ABN_Database.db')\n",
        "\n",
        "# Define the DataFrames with appropriate table names\n",
        "tables = {\n",
        "    'abn_data': df_1,\n",
        "    'fair_certificates': df_2,\n",
        "    'motor_dealer_licenses': df_3,\n",
        "    'financial_advisers': df_4,\n",
        "    'school_details': df_5\n",
        "}\n",
        "\n",
        "# Dump each DataFrame into the SQLite database with proper table names\n",
        "for table_name, df in tables.items():\n",
        "    df.to_sql(table_name, conn, if_exists='replace', index=False)\n",
        "\n",
        "# Close the connection\n",
        "conn.close()\n",
        "\n",
        "print(\"Data has been successfully dumped into the database.\")\n"
      ],
      "metadata": {
        "id": "ST-knaH0ptB1"
      },
      "execution_count": null,
      "outputs": []
    },
    {
      "cell_type": "code",
      "source": [
        "import sqlite3\n",
        "\n",
        "# Create a connection to the SQLite database\n",
        "conn = sqlite3.connect('Abn_final_database.db')\n",
        "\n",
        "# Enable foreign key constraints\n",
        "conn.execute('PRAGMA foreign_keys = ON;')\n",
        "\n",
        "# Define the DataFrames with appropriate table names\n",
        "tables = {\n",
        "    'abn_data': (df_1, 'abnNumber'),\n",
        "    'fair_certificates': (df_2, 'CertificateNumber'),\n",
        "    'motor_dealer_licenses': (df_3, 'Licence Number'),  # Commenting out df_3 for now\n",
        "    'financial_advisers': (df_4, 'ADV_NUMBER'),\n",
        "    'school_details': (df_5, 'SchoolNumber')\n",
        "}\n",
        "\n",
        "# Define foreign key relationships\n",
        "foreign_keys = {\n",
        "    'fair_certificates': ('ABN', 'abnNumber'),\n",
        "    'motor_dealer_licenses': (' ABN',  'abnNumber'),  # Commenting out df_3 foreign key relationship for now\n",
        "    'financial_advisers': ('LICENCE_ABN', 'abnNumber'),\n",
        "    'school_details': ('ABN', 'abnNumber')\n",
        "}\n",
        "\n",
        "# Dump each DataFrame into the SQLite database with proper table names\n",
        "for table_name, (df, primary_key) in tables.items():\n",
        "    # Define primary key constraint\n",
        "    primary_key_constraint = f'CONSTRAINT pk_{table_name} PRIMARY KEY ({primary_key})'\n",
        "    # Add primary key constraint to the DataFrame\n",
        "    df_with_pk = df.copy()\n",
        "    df_with_pk = df_with_pk.set_index(primary_key)\n",
        "    # Dump DataFrame into SQLite database\n",
        "    df_with_pk.to_sql(table_name, conn, if_exists='replace', index=True)\n",
        "    # Add primary key constraint to the table in the database\n",
        "    conn.execute(f'CREATE UNIQUE INDEX {table_name}_idx ON {table_name} ({primary_key})')\n",
        "    print(f\"DataFrame dumped into SQLite table '{table_name}' successfully.\")\n",
        "\n",
        "# Define foreign key constraints\n",
        "for child_table, (parent_column, parent_table, parent_primary_key) in foreign_keys.items():\n",
        "    conn.execute(f'ALTER TABLE {child_table} ADD CONSTRAINT fk_{child_table}_{parent_table} '\n",
        "                 f'FOREIGN KEY ({parent_column}) REFERENCES {parent_table}({parent_primary_key});')\n",
        "    print(f\"Foreign key constraint added for '{child_table}' referencing '{parent_table}'.\")\n",
        "\n",
        "# Close the connection\n",
        "conn.close()\n",
        "\n",
        "print(\"Data has been successfully dumped into the database.\")\n"
      ],
      "metadata": {
        "id": "Ald9GfM810Bp"
      },
      "execution_count": null,
      "outputs": []
    }
  ]
}